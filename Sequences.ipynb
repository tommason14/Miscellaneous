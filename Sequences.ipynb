{
 "cells": [
  {
   "cell_type": "code",
   "execution_count": null,
   "metadata": {},
   "outputs": [],
   "source": [
    "import pandas as pd\n",
    "import re\n",
    "import math"
   ]
  },
  {
   "cell_type": "markdown",
   "metadata": {},
   "source": [
    "Generate sequence files\n",
    "\n",
    "- Input LIMS number as range\n",
    "- Input sample number as range\n",
    "- Sample information\n",
    "- Data file, involves date-time and concatenation\n",
    "- Method file\n",
    "- Data Path\n",
    "- Method Path\n",
    "\n",
    "Assumes only one solvent and extracted blank per batch!\n",
    "\n",
    "Sort out vial numbers"
   ]
  },
  {
   "cell_type": "code",
   "execution_count": null,
   "metadata": {},
   "outputs": [],
   "source": [
    "def getLIMS():\n",
    "    \"\"\"create range of LIMS numbers;\n",
    "    LIMS00...\"\"\"\n",
    "    lims_reference = input('LIMS reference: ')\n",
    "    num_samples = int(input('Number of samples: '))\n",
    "    sample_list =  [lims_reference + \"-\" + str(i + 1) + \" \" + j for i in range(num_samples) for j in ('A', 'B')]\n",
    "    return (num_samples, sample_list)"
   ]
  },
  {
   "cell_type": "code",
   "execution_count": null,
   "metadata": {},
   "outputs": [],
   "source": [
    "def sample_nums(num_samples):\n",
    "    start = int(input('Initial sample number: '))\n",
    "    sample_number_list = []\n",
    "    for i in range(num_samples):\n",
    "        sample_number_list.append(str(start + i) + '_A')\n",
    "        sample_number_list.append(str(start + i) + '_B')\n",
    "    return sample_number_list"
   ]
  },
  {
   "cell_type": "code",
   "execution_count": null,
   "metadata": {},
   "outputs": [],
   "source": [
    "def additions(lst):\n",
    "    additions = ('Solvent Blank A', 'Solvent Blank B', 'Ext Blank A', 'Ext Blank B')\n",
    "    for index, i in enumerate(additions):\n",
    "        lst.insert(index, i)\n",
    "    return lst"
   ]
  },
  {
   "cell_type": "code",
   "execution_count": null,
   "metadata": {},
   "outputs": [],
   "source": [
    "def add_t_factor(lst, num_samples):\n",
    "    t_factor = input('T-factor calibration? [y/n] ')\n",
    "    occurred = ''\n",
    "    if 'y' in t_factor.lower():\n",
    "        occurred = 'yes'\n",
    "        for i in range(1,6):\n",
    "            lst.insert(3 + i, 'T' + str(i))\n",
    "    else:\n",
    "        pass\n",
    "    \n",
    "    return (lst, occurred)"
   ]
  },
  {
   "cell_type": "code",
   "execution_count": null,
   "metadata": {},
   "outputs": [],
   "source": [
    "def add_aqc(num_samples, lst, t_factor):\n",
    "    \"Assumes one aqc run after batch has finished\"\n",
    "    num_aqcs = int(input('Number of AQCs: '))\n",
    "    before_batch = int(num_aqcs/2)\n",
    "    indices = []\n",
    "\n",
    "    aqc = []\n",
    "    for i in range(before_batch):\n",
    "        for assay in ('A', 'B'):\n",
    "            aqc.append(f'AQC{i + 1} {assay}')\n",
    "            \n",
    "    start = 4\n",
    "    if 'y' in t_factor.lower():\n",
    "        start = 9\n",
    "    lst = lst[:start] + aqc + lst[start:]\n",
    "\n",
    "    #add additional aqcs after batch has run\n",
    "    for i in range(num_aqcs - before_batch):\n",
    "        lst.append('AQC' + str(i + before_batch + 1) + ' A')\n",
    "        lst.append('AQC' + str(i + before_batch + 1) + ' B')\n",
    "    return lst, num_aqcs, before_batch"
   ]
  },
  {
   "cell_type": "code",
   "execution_count": null,
   "metadata": {},
   "outputs": [],
   "source": [
    "def add_flush(lst):\n",
    "    lst.insert(0, 'flush1')\n",
    "    lst.insert(1, 'flush2')\n",
    "    lst.append('flush3')\n",
    "    lst.append('flush4')\n",
    "    return lst"
   ]
  },
  {
   "cell_type": "code",
   "execution_count": null,
   "metadata": {},
   "outputs": [],
   "source": [
    "def create_sample_list(lims, additions, t_factor, aqc, flush):\n",
    "    #store each as separate lists?\n",
    "    num_samples, list_one = lims()\n",
    "    samples = sample_nums(num_samples)\n",
    "    list_two = additions(list_one)\n",
    "    list_three, t_factor = t_factor(list_two, num_samples)\n",
    "    list_four, num_aqcs, before_batch = aqc(num_samples, list_three, t_factor)\n",
    "    list_five = flush(list_four)\n",
    "    return list_five, samples, num_aqcs, before_batch"
   ]
  },
  {
   "cell_type": "code",
   "execution_count": null,
   "metadata": {},
   "outputs": [],
   "source": [
    "def create_abbreviations(samples_list, sample_numbers):\n",
    "    abb_list = []\n",
    "    counter = 0\n",
    "    for index, i in enumerate(samples_list):\n",
    "        _samples = {\n",
    "            'Solvent': 'SB' + '_' + list(i)[-1],\n",
    "            'Ext': 'EB' + '_' + list(i)[-1],\n",
    "            'AQC': '_'.join(i.split()),\n",
    "            'flush': i,\n",
    "            'LIMS': sample_numbers[counter]\n",
    "        }    \n",
    "        for sample, ret in _samples.items():\n",
    "            if sample in i:\n",
    "                abb = ret\n",
    "            counter += 1\n",
    "        elif re.search('T[0-9]', i):\n",
    "            abb = i\n",
    "        abb_list.append(abb)\n",
    "        \n",
    "    return abb_list"
   ]
  },
  {
   "cell_type": "code",
   "execution_count": null,
   "metadata": {},
   "outputs": [],
   "source": [
    "def sample_info(sample_lst):\n",
    "    info = []\n",
    "    counter = 1\n",
    "    check = 0\n",
    "    for i in sample_lst:\n",
    "        if 'flush' in i:\n",
    "            comment = 'iso-octane'\n",
    "        elif 'Solvent' in i:\n",
    "            comment = i\n",
    "        elif 'Ext' in i:\n",
    "            comment = i\n",
    "        elif ('AQC' in i) and ('A' in list(i)[-1]):\n",
    "            comment = 'AQC A'\n",
    "        elif ('AQC' in i) and ('B' in list(i)[-1]):\n",
    "            comment = 'AQC B'\n",
    "        elif 'LIMS' in i:\n",
    "            comment = 'Sample ' + str(counter)\n",
    "            check += 1\n",
    "            if check % 2 == 0:\n",
    "                counter += 1\n",
    "        elif re.search('T[0-9]', i):\n",
    "            comment = f'T-factor {list(i)[-1]}'\n",
    "        info.append(comment)\n",
    "    return info"
   ]
  },
  {
   "cell_type": "code",
   "execution_count": null,
   "metadata": {},
   "outputs": [],
   "source": [
    "def data_file(abbreviations):\n",
    "    import datetime\n",
    "    file_lst = []\n",
    "    for i in abbreviations:\n",
    "        today = datetime.date.today()\n",
    "        file_lst.append(f\"{datetime.datetime.now():%Y%m%d}_{i}\")\n",
    "    return file_lst\n",
    "\n",
    "def method_file(samples, method = 'MCPD Esters_Aug 2018_SIM.M'):\n",
    "    return [method for i in range(len(samples))]\n",
    "    \n",
    "def data_path(samples, path = 'D:\\Data\\MCPD\\\\'):\n",
    "    return [path for i in range(len(samples))]\n",
    "     \n",
    "def method_path(samples, path = 'D:\\MassHunter\\GCMS\\\\1\\\\METHODS\\\\'):\n",
    "    return [path for i in range(len(samples))]"
   ]
  },
  {
   "cell_type": "code",
   "execution_count": null,
   "metadata": {},
   "outputs": [],
   "source": [
    "def vial_nums(samples, num_aqcs, num_aqcs_before_batch):\n",
    "    vials = [0,1]\n",
    "    aqc_vials = []\n",
    "    for i in range(len(samples) - 2):\n",
    "        num = i + 2\n",
    "        vials.append(num)\n",
    "        \n",
    "    vial_dict = dict(zip(vials, samples))\n",
    "    \n",
    "    # Finding correct samples and changing vial number\n",
    "    tmp = []\n",
    "    for idx, sample in enumerate(samples):\n",
    "        tmp.append([idx, sample])\n",
    "    \n",
    "    aqcs = []\n",
    "    count = 0\n",
    "    changed = 0\n",
    "    for idx, sample in enumerate(tmp):\n",
    "        if 'AQC' in sample[1]:\n",
    "            count += 1\n",
    "            if count > num_aqcs_before_batch * 2: #2 assays\n",
    "                sample[0] = aqcs[changed][0]\n",
    "                changed +=1\n",
    "            aqcs.append(sample)\n",
    "    \n",
    "    combined = {}\n",
    "    for i in range(num_aqcs_before_batch * 2):\n",
    "        combined[aqcs[i][0]] = [aqcs[i][1]]\n",
    "\n",
    "    for i in range(num_aqcs_before_batch * 2):\n",
    "        combined[aqcs[num_aqcs_before_batch * 2 + i][0]].append(aqcs[num_aqcs_before_batch * 2 + i][1])\n",
    "\n",
    "   \n",
    "    vial_list = [[key, value] for key, value in vial_dict.items()]\n",
    "    \n",
    "# key step! Assigning the same vial number to aqc samples later in the run    \n",
    "    for vial in vial_list:\n",
    "        for key, value in combined.items():\n",
    "            if vial[1] in value:\n",
    "                vial[0] = key\n",
    "    \n",
    "    # flush vials\n",
    "    vial_list[0][0] = 1\n",
    "    vial_list[-2][0] = 1\n",
    "    vial_list[-1][0] = 1\n",
    "    \n",
    "    vials = [i[0] for i in vial_list]\n",
    "    sample_list = [i[1] for i in vial_list]\n",
    "    return vials"
   ]
  },
  {
   "cell_type": "code",
   "execution_count": null,
   "metadata": {},
   "outputs": [],
   "source": [
    "def create_df(vials, names, abbreviations, info, data_file, method_file, data_path, method_path):\n",
    "    #need to make sample number column, swapping LIMS references for sample numbers\n",
    "    df = pd.DataFrame({\n",
    "        'Vial': vials,\n",
    "        'Sample Name': names,\n",
    "        'Additional Information': info,\n",
    "        'Data File': data_file,\n",
    "        'Method File': method_file,\n",
    "        'Data Path': data_path,\n",
    "        'Method Path': method_path\n",
    "    })\n",
    "    return df"
   ]
  },
  {
   "cell_type": "code",
   "execution_count": null,
   "metadata": {},
   "outputs": [],
   "source": [
    "def print_result(df):\n",
    "    print('Writing to file...')\n",
    "    excel = input('Write to excel file? [y/n] ')\n",
    "    if 'y' in excel.lower():\n",
    "        filename = str(input('Filename: '))\n",
    "        print_excel(df, filename)\n",
    "        csv = input('Write to csv? [y/n] ')\n",
    "        write_csv(df, filename)\n",
    "    else:\n",
    "        csv = input('Write to csv? [y/n] ')\n",
    "        filename = str(input('Filename: '))\n",
    "        print_csv(df, filename)"
   ]
  },
  {
   "cell_type": "code",
   "execution_count": null,
   "metadata": {},
   "outputs": [],
   "source": [
    "def print_excel(df, filename):\n",
    "    df.to_excel(filename, index=False)\n",
    "\n",
    "def print_csv(df, filename):\n",
    "    df.to_csv(filename, index=False)"
   ]
  },
  {
   "cell_type": "code",
   "execution_count": null,
   "metadata": {},
   "outputs": [],
   "source": [
    "def change_df(df, sample_numbers):\n",
    "    names = df.loc[df['Sample Name'].str.contains('LIMS'), 'Sample Name'] #= df.loc[df['Sample Name'].str.contains('LIMS'), 'Sample Name'] + \" \" + sample_numbers\n",
    "    new_names = []\n",
    "    for idx, i in enumerate(names):\n",
    "        new_names.append(\n",
    "            \"\".join(list(i)[:-1]) + \"\".join(list(sample_numbers[idx])[:-2]) + \" \" + list(i)[-1]\n",
    "        )\n",
    "    df.loc[df['Sample Name'].str.contains('LIMS'), 'Sample Name'] = new_names\n",
    "    \n",
    "    return df"
   ]
  },
  {
   "cell_type": "code",
   "execution_count": null,
   "metadata": {},
   "outputs": [],
   "source": [
    "def main():\n",
    "    samples, sample_numbers, num_aqcs, aqc_before_batch = create_sample_list(getLIMS, additions,add_t_factor, add_aqc, add_flush)\n",
    "    abbs = create_abbreviations(samples, sample_numbers)\n",
    "    info = sample_info(samples)\n",
    "    data_file_lst = data_file(abbs)\n",
    "    method_file_lst = method_file(samples)\n",
    "    method_path_lst = method_path(samples)\n",
    "    data_path_lst = data_path(samples)\n",
    "    vials = vial_nums(samples, num_aqcs, aqc_before_batch)\n",
    "    df = create_df(vials, samples, abbs, info, data_file_lst, method_file_lst, data_path_lst, method_path_lst)\n",
    "    df = change_df(df, sample_numbers)\n",
    "    print_result(df)\n",
    "\n",
    "main()"
   ]
  }
 ],
 "metadata": {
  "kernelspec": {
   "display_name": "Python 3",
   "language": "python",
   "name": "python3"
  },
  "language_info": {
   "codemirror_mode": {
    "name": "ipython",
    "version": 3
   },
   "file_extension": ".py",
   "mimetype": "text/x-python",
   "name": "python",
   "nbconvert_exporter": "python",
   "pygments_lexer": "ipython3",
   "version": "3.7.1"
  }
 },
 "nbformat": 4,
 "nbformat_minor": 4
}
