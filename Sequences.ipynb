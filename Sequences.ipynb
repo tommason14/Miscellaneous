{
 "cells": [
  {
   "cell_type": "code",
   "execution_count": 1,
   "metadata": {},
   "outputs": [],
   "source": [
    "import pandas as pd\n",
    "import re\n",
    "import math"
   ]
  },
  {
   "cell_type": "raw",
   "metadata": {},
   "source": [
    "\"\"\"\n",
    "Generate sequence files for method c\n",
    "- Input LIMS number as range\n",
    "- Input sample number as range\n",
    "- Sample information\n",
    "- Data file, involves date-time and concatenation\n",
    "- Method file\n",
    "- Data Path\n",
    "- Method Path\n",
    "\n",
    "Assumes only one solvent and extracted blank per batch!\n",
    "\n",
    "Sort out vial numbers\n",
    "\"\"\""
   ]
  },
  {
   "cell_type": "code",
   "execution_count": 3,
   "metadata": {},
   "outputs": [],
   "source": [
    "def getLIMS():\n",
    "    \"\"\"create range of LIMS numbers;\n",
    "    LIMS00...\"\"\"\n",
    "    lims_reference = input('LIMS reference: ')\n",
    "    num_samples = int(input('Number of samples: '))\n",
    "    #num = list(lims_reference)[4:].join()\n",
    "    sample_list =  [lims_reference + \"-\" + str(i + 1) + \" \" + j for i in range(num_samples) for j in ('A', 'B')]\n",
    "    return (num_samples, sample_list)"
   ]
  },
  {
   "cell_type": "code",
   "execution_count": 4,
   "metadata": {},
   "outputs": [],
   "source": [
    "def sample_nums(num_samples):\n",
    "    start = int(input('Initial sample number: '))\n",
    "    sample_number_list = []\n",
    "    for i in range(num_samples):\n",
    "        sample_number_list.append(str(start + i) + '_A')\n",
    "        sample_number_list.append(str(start + i) + '_B')\n",
    "    #sample_number_list = [str(start + i), str(start + i) for i in range(num_samples)] #two assays\n",
    "    return sample_number_list"
   ]
  },
  {
   "cell_type": "code",
   "execution_count": 5,
   "metadata": {},
   "outputs": [],
   "source": [
    "def additions(lst):\n",
    "    additions = ('Solvent Blank A', 'Solvent Blank B', 'Ext Blank A', 'Ext Blank B')\n",
    "    for index, i in enumerate(additions):\n",
    "        lst.insert(index, i)\n",
    "    return lst"
   ]
  },
  {
   "cell_type": "code",
   "execution_count": 6,
   "metadata": {},
   "outputs": [],
   "source": [
    "def add_t_factor(lst, num_samples):\n",
    "    t_factor = input('T-factor calibration? [y/n] ')\n",
    "    occurred = ''\n",
    "    if 'y' in t_factor.lower():\n",
    "        occurred = 'yes'\n",
    "        for i in range(1,6):\n",
    "            lst.insert(3 + i, 'T' + str(i))\n",
    "    else:\n",
    "        pass\n",
    "    \n",
    "    return (lst, occurred)"
   ]
  },
  {
   "cell_type": "code",
   "execution_count": 7,
   "metadata": {},
   "outputs": [],
   "source": [
    "def add_aqc(num_samples, lst, t_factor):\n",
    "    \"Assumes one aqc run after batch has finished\"\n",
    "    num_aqcs = int(input('Number of AQCs: '))\n",
    "    #before_batch = int(input('How many before batch? '))\n",
    "    before_batch = int(num_aqcs/2)\n",
    "    indices = []\n",
    "#     for i in range((num_aqcs - before_batch)*2):\n",
    "#         indices.append(4 + i)\n",
    "#     print(indices)\n",
    "#     for idx, i in enumerate(indices):\n",
    "#         lst.insert(5 + i, 'AQC' + str(idx + 1) + \" A\")\n",
    "#         lst.insert(5 + i, 'AQC' + str(idx + 1) + \" B\")\n",
    "    aqc = []\n",
    "    for i in range(before_batch):\n",
    "        for assay in ('A', 'B'):\n",
    "            aqc.append(f'AQC{i + 1} {assay}')\n",
    "            \n",
    "    start = 4\n",
    "    if 'y' in t_factor.lower():\n",
    "        start = 9\n",
    "    lst = lst[:start] + aqc + lst[start:]\n",
    "\n",
    "    #add additional aqcs after batch has run\n",
    "    for i in range(num_aqcs - before_batch):\n",
    "        lst.append('AQC' + str(i + before_batch + 1) + ' A')\n",
    "        lst.append('AQC' + str(i + before_batch + 1) + ' B')\n",
    "    return lst, num_aqcs, before_batch"
   ]
  },
  {
   "cell_type": "code",
   "execution_count": 8,
   "metadata": {},
   "outputs": [],
   "source": [
    "def add_flush(lst):\n",
    "    lst.insert(0, 'flush1')\n",
    "    lst.insert(1, 'flush2')\n",
    "    lst.append('flush3')\n",
    "    lst.append('flush4')\n",
    "    return lst"
   ]
  },
  {
   "cell_type": "code",
   "execution_count": 9,
   "metadata": {},
   "outputs": [],
   "source": [
    "def create_sample_list(lims, additions, t_factor, aqc, flush):\n",
    "    #store each as separate lists?\n",
    "    num_samples, list_one = lims()\n",
    "    samples = sample_nums(num_samples)\n",
    "    list_two = additions(list_one)\n",
    "    list_three, t_factor = t_factor(list_two, num_samples)\n",
    "    list_four, num_aqcs, before_batch = aqc(num_samples, list_three, t_factor)\n",
    "    list_five = flush(list_four)\n",
    "    return list_five, samples, num_aqcs, before_batch"
   ]
  },
  {
   "cell_type": "code",
   "execution_count": 10,
   "metadata": {},
   "outputs": [],
   "source": [
    "def create_abbreviations(samples_list, sample_numbers):\n",
    "    abb_list = []\n",
    "    counter = 0\n",
    "    for index, i in enumerate(samples_list):\n",
    "        _samples = {\n",
    "            'Solvent': 'SB' + '_' + list(i)[-1],\n",
    "            'Ext': 'EB' + '_' + list(i)[-1],\n",
    "            'AQC': '_'.join(i.split()),\n",
    "            'flush': i,\n",
    "            'LIMS': sample_numbers[counter]\n",
    "        }    \n",
    "        for sample, ret in _samples.items():\n",
    "            if sample in i:\n",
    "                abb = ret\n",
    "#         if 'Solvent' in i:\n",
    "#             abb = 'SB' + '_' + list(i)[-1]\n",
    "#         elif 'Ext' in i:\n",
    "#             abb = 'EB' + '_' + list(i)[-1]\n",
    "#         elif 'AQC' in i:\n",
    "#             abb = '_'.join(i.split())\n",
    "#         elif 'flush' in i:\n",
    "#             abb = i\n",
    "#         elif 'LIMS' in i:\n",
    "#             abb = sample_numbers[counter]\n",
    "        \n",
    "            counter += 1\n",
    "        elif re.search('T[0-9]', i):\n",
    "            abb = i\n",
    "        abb_list.append(abb)\n",
    "        \n",
    "    return abb_list"
   ]
  },
  {
   "cell_type": "code",
   "execution_count": 11,
   "metadata": {},
   "outputs": [],
   "source": [
    "def sample_info(sample_lst):\n",
    "    info = []\n",
    "    counter = 1\n",
    "    check = 0\n",
    "    for i in sample_lst:\n",
    "        if 'flush' in i:\n",
    "            comment = 'iso-octane'\n",
    "        elif 'Solvent' in i:\n",
    "            comment = i\n",
    "        elif 'Ext' in i:\n",
    "            comment = i\n",
    "        elif ('AQC' in i) and ('A' in list(i)[-1]):\n",
    "            comment = 'AQC A'\n",
    "        elif ('AQC' in i) and ('B' in list(i)[-1]):\n",
    "            comment = 'AQC B'\n",
    "        elif 'LIMS' in i:\n",
    "            comment = 'Sample ' + str(counter)\n",
    "            check += 1\n",
    "            if check % 2 == 0:\n",
    "                counter += 1\n",
    "        elif re.search('T[0-9]', i):\n",
    "            comment = f'T-factor {list(i)[-1]}'\n",
    "        info.append(comment)\n",
    "    return info"
   ]
  },
  {
   "cell_type": "code",
   "execution_count": 12,
   "metadata": {},
   "outputs": [],
   "source": [
    "def data_file(abbreviations):\n",
    "    import datetime\n",
    "    file_lst = []\n",
    "    for i in abbreviations:\n",
    "        today = datetime.date.today()\n",
    "        file_lst.append(f\"{datetime.datetime.now():%Y%m%d}_{i}\")\n",
    "    return file_lst\n",
    "\n",
    "def method_file(samples, method = 'MCPD Esters_Aug 2018_SIM.M'):\n",
    "    return [method for i in range(len(samples))]\n",
    "    \n",
    "def data_path(samples, path = 'D:\\Data\\MCPD\\\\'):\n",
    "    return [path for i in range(len(samples))]\n",
    "     \n",
    "def method_path(samples, path = 'D:\\MassHunter\\GCMS\\\\1\\\\METHODS\\\\'):\n",
    "    return [path for i in range(len(samples))]"
   ]
  },
  {
   "cell_type": "code",
   "execution_count": 13,
   "metadata": {},
   "outputs": [],
   "source": [
    "def vial_nums(samples, num_aqcs, num_aqcs_before_batch):\n",
    "    vials = [0,1]\n",
    "    aqc_vials = []\n",
    "    for i in range(len(samples) - 2):\n",
    "        num = i + 2\n",
    "        vials.append(num)\n",
    "        \n",
    "    vial_dict = dict(zip(vials, samples))\n",
    "    \n",
    "    # Finding correct samples and changing vial number\n",
    "    tmp = []\n",
    "    for idx, sample in enumerate(samples):\n",
    "        tmp.append([idx, sample])\n",
    "    \n",
    "    aqcs = []\n",
    "    count = 0\n",
    "    changed = 0\n",
    "    for idx, sample in enumerate(tmp):\n",
    "        if 'AQC' in sample[1]:\n",
    "            count += 1\n",
    "            if count > num_aqcs_before_batch * 2: #2 assays\n",
    "                sample[0] = aqcs[changed][0]\n",
    "                changed +=1\n",
    "            aqcs.append(sample)\n",
    "    \n",
    "    combined = {}\n",
    "    for i in range(num_aqcs_before_batch * 2):\n",
    "        combined[aqcs[i][0]] = [aqcs[i][1]]\n",
    "\n",
    "    for i in range(num_aqcs_before_batch * 2):\n",
    "        combined[aqcs[num_aqcs_before_batch * 2 + i][0]].append(aqcs[num_aqcs_before_batch * 2 + i][1])\n",
    "\n",
    "   \n",
    "    vial_list = [[key, value] for key, value in vial_dict.items()]\n",
    "    \n",
    "# key step! Assigning the same vial number to aqc samples later in the run    \n",
    "    for vial in vial_list:\n",
    "        for key, value in combined.items():\n",
    "            if vial[1] in value:\n",
    "                vial[0] = key\n",
    "    \n",
    "    \n",
    "    # flush vials\n",
    "    vial_list[0][0] = 1\n",
    "    vial_list[-2][0] = 1\n",
    "    vial_list[-1][0] = 1\n",
    "    \n",
    "    \n",
    "    vials = [i[0] for i in vial_list]\n",
    "    sample_list = [i[1] for i in vial_list]\n",
    "    return vials"
   ]
  },
  {
   "cell_type": "code",
   "execution_count": 14,
   "metadata": {},
   "outputs": [],
   "source": [
    "def create_df(vials, names, abbreviations, info, data_file, method_file, data_path, method_path):\n",
    "    #need to make sample number column, swapping LIMS references for sample numbers\n",
    "    df = pd.DataFrame({\n",
    "        'Vial': vials,\n",
    "        'Sample Name': names,\n",
    "        #'Sample Number': numbers,\n",
    "        'Additional Information': info,\n",
    "        'Data File': data_file,\n",
    "        'Method File': method_file,\n",
    "        'Data Path': data_path,\n",
    "        'Method Path': method_path\n",
    "    })\n",
    "    return df"
   ]
  },
  {
   "cell_type": "code",
   "execution_count": 20,
   "metadata": {},
   "outputs": [],
   "source": [
    "def print_result(df):\n",
    "    print('Writing to file...')\n",
    "    excel = input('Write to excel file? [y/n] ')\n",
    "    if 'y' in excel.lower():\n",
    "        filename = str(input('Filename: '))\n",
    "        print_excel(df, filename)\n",
    "        csv = input('Write to csv? [y/n] ')\n",
    "        write_csv(df, filename)\n",
    "    else:\n",
    "        csv = input('Write to csv? [y/n] ')\n",
    "        filename = str(input('Filename: '))\n",
    "        print_csv(df, filename)"
   ]
  },
  {
   "cell_type": "code",
   "execution_count": 21,
   "metadata": {},
   "outputs": [],
   "source": [
    "def print_excel(df, filename):\n",
    "    df.to_excel(filename, index=False)\n",
    "\n",
    "def print_csv(df, filename):\n",
    "    df.to_csv(filename, index=False)"
   ]
  },
  {
   "cell_type": "code",
   "execution_count": 18,
   "metadata": {},
   "outputs": [],
   "source": [
    "def change_df(df, sample_numbers):\n",
    "    names = df.loc[df['Sample Name'].str.contains('LIMS'), 'Sample Name'] #= df.loc[df['Sample Name'].str.contains('LIMS'), 'Sample Name'] + \" \" + sample_numbers\n",
    "    new_names = []\n",
    "    for idx, i in enumerate(names):\n",
    "        new_names.append(\n",
    "            \"\".join(list(i)[:-1]) + \"\".join(list(sample_numbers[idx])[:-2]) + \" \" + list(i)[-1]\n",
    "        )\n",
    "    df.loc[df['Sample Name'].str.contains('LIMS'), 'Sample Name'] = new_names\n",
    "    \n",
    "    return df"
   ]
  },
  {
   "cell_type": "code",
   "execution_count": 22,
   "metadata": {},
   "outputs": [
    {
     "name": "stdout",
     "output_type": "stream",
     "text": [
      "LIMS reference: LIMS00211\n",
      "Number of samples: 10\n",
      "Initial sample number: 4321\n",
      "T-factor calibration? [y/n] y\n",
      "Number of AQCs: 2\n",
      "Writing to file...\n",
      "Write to excel file? [y/n] y\n",
      "Filename: file.xlsx\n"
     ]
    },
    {
     "ename": "ModuleNotFoundError",
     "evalue": "No module named 'openpyxl'",
     "output_type": "error",
     "traceback": [
      "\u001b[0;31m---------------------------------------------------------------------------\u001b[0m",
      "\u001b[0;31mModuleNotFoundError\u001b[0m                       Traceback (most recent call last)",
      "\u001b[0;32m<ipython-input-22-003ad0d03807>\u001b[0m in \u001b[0;36m<module>\u001b[0;34m\u001b[0m\n\u001b[1;32m     12\u001b[0m     \u001b[0mprint_result\u001b[0m\u001b[0;34m(\u001b[0m\u001b[0mdf\u001b[0m\u001b[0;34m)\u001b[0m\u001b[0;34m\u001b[0m\u001b[0;34m\u001b[0m\u001b[0m\n\u001b[1;32m     13\u001b[0m \u001b[0;34m\u001b[0m\u001b[0m\n\u001b[0;32m---> 14\u001b[0;31m \u001b[0mmain\u001b[0m\u001b[0;34m(\u001b[0m\u001b[0;34m)\u001b[0m\u001b[0;34m\u001b[0m\u001b[0;34m\u001b[0m\u001b[0m\n\u001b[0m",
      "\u001b[0;32m<ipython-input-22-003ad0d03807>\u001b[0m in \u001b[0;36mmain\u001b[0;34m()\u001b[0m\n\u001b[1;32m     10\u001b[0m     \u001b[0mdf\u001b[0m \u001b[0;34m=\u001b[0m \u001b[0mcreate_df\u001b[0m\u001b[0;34m(\u001b[0m\u001b[0mvials\u001b[0m\u001b[0;34m,\u001b[0m \u001b[0msamples\u001b[0m\u001b[0;34m,\u001b[0m \u001b[0mabbs\u001b[0m\u001b[0;34m,\u001b[0m \u001b[0minfo\u001b[0m\u001b[0;34m,\u001b[0m \u001b[0mdata_file_lst\u001b[0m\u001b[0;34m,\u001b[0m \u001b[0mmethod_file_lst\u001b[0m\u001b[0;34m,\u001b[0m \u001b[0mdata_path_lst\u001b[0m\u001b[0;34m,\u001b[0m \u001b[0mmethod_path_lst\u001b[0m\u001b[0;34m)\u001b[0m\u001b[0;34m\u001b[0m\u001b[0;34m\u001b[0m\u001b[0m\n\u001b[1;32m     11\u001b[0m     \u001b[0mdf\u001b[0m \u001b[0;34m=\u001b[0m \u001b[0mchange_df\u001b[0m\u001b[0;34m(\u001b[0m\u001b[0mdf\u001b[0m\u001b[0;34m,\u001b[0m \u001b[0msample_numbers\u001b[0m\u001b[0;34m)\u001b[0m\u001b[0;34m\u001b[0m\u001b[0;34m\u001b[0m\u001b[0m\n\u001b[0;32m---> 12\u001b[0;31m     \u001b[0mprint_result\u001b[0m\u001b[0;34m(\u001b[0m\u001b[0mdf\u001b[0m\u001b[0;34m)\u001b[0m\u001b[0;34m\u001b[0m\u001b[0;34m\u001b[0m\u001b[0m\n\u001b[0m\u001b[1;32m     13\u001b[0m \u001b[0;34m\u001b[0m\u001b[0m\n\u001b[1;32m     14\u001b[0m \u001b[0mmain\u001b[0m\u001b[0;34m(\u001b[0m\u001b[0;34m)\u001b[0m\u001b[0;34m\u001b[0m\u001b[0;34m\u001b[0m\u001b[0m\n",
      "\u001b[0;32m<ipython-input-20-e2cf1649ef0a>\u001b[0m in \u001b[0;36mprint_result\u001b[0;34m(df)\u001b[0m\n\u001b[1;32m      4\u001b[0m     \u001b[0;32mif\u001b[0m \u001b[0;34m'y'\u001b[0m \u001b[0;32min\u001b[0m \u001b[0mexcel\u001b[0m\u001b[0;34m.\u001b[0m\u001b[0mlower\u001b[0m\u001b[0;34m(\u001b[0m\u001b[0;34m)\u001b[0m\u001b[0;34m:\u001b[0m\u001b[0;34m\u001b[0m\u001b[0;34m\u001b[0m\u001b[0m\n\u001b[1;32m      5\u001b[0m         \u001b[0mfilename\u001b[0m \u001b[0;34m=\u001b[0m \u001b[0mstr\u001b[0m\u001b[0;34m(\u001b[0m\u001b[0minput\u001b[0m\u001b[0;34m(\u001b[0m\u001b[0;34m'Filename: '\u001b[0m\u001b[0;34m)\u001b[0m\u001b[0;34m)\u001b[0m\u001b[0;34m\u001b[0m\u001b[0;34m\u001b[0m\u001b[0m\n\u001b[0;32m----> 6\u001b[0;31m         \u001b[0mprint_excel\u001b[0m\u001b[0;34m(\u001b[0m\u001b[0mdf\u001b[0m\u001b[0;34m,\u001b[0m \u001b[0mfilename\u001b[0m\u001b[0;34m)\u001b[0m\u001b[0;34m\u001b[0m\u001b[0;34m\u001b[0m\u001b[0m\n\u001b[0m\u001b[1;32m      7\u001b[0m         \u001b[0mcsv\u001b[0m \u001b[0;34m=\u001b[0m \u001b[0minput\u001b[0m\u001b[0;34m(\u001b[0m\u001b[0;34m'Write to csv? [y/n] '\u001b[0m\u001b[0;34m)\u001b[0m\u001b[0;34m\u001b[0m\u001b[0;34m\u001b[0m\u001b[0m\n\u001b[1;32m      8\u001b[0m         \u001b[0mwrite_csv\u001b[0m\u001b[0;34m(\u001b[0m\u001b[0mdf\u001b[0m\u001b[0;34m,\u001b[0m \u001b[0mfilename\u001b[0m\u001b[0;34m)\u001b[0m\u001b[0;34m\u001b[0m\u001b[0;34m\u001b[0m\u001b[0m\n",
      "\u001b[0;32m<ipython-input-21-d777957265e6>\u001b[0m in \u001b[0;36mprint_excel\u001b[0;34m(df, filename)\u001b[0m\n\u001b[1;32m      1\u001b[0m \u001b[0;32mdef\u001b[0m \u001b[0mprint_excel\u001b[0m\u001b[0;34m(\u001b[0m\u001b[0mdf\u001b[0m\u001b[0;34m,\u001b[0m \u001b[0mfilename\u001b[0m\u001b[0;34m)\u001b[0m\u001b[0;34m:\u001b[0m\u001b[0;34m\u001b[0m\u001b[0;34m\u001b[0m\u001b[0m\n\u001b[0;32m----> 2\u001b[0;31m     \u001b[0mdf\u001b[0m\u001b[0;34m.\u001b[0m\u001b[0mto_excel\u001b[0m\u001b[0;34m(\u001b[0m\u001b[0mfilename\u001b[0m\u001b[0;34m,\u001b[0m \u001b[0mindex\u001b[0m\u001b[0;34m=\u001b[0m\u001b[0;32mFalse\u001b[0m\u001b[0;34m)\u001b[0m\u001b[0;34m\u001b[0m\u001b[0;34m\u001b[0m\u001b[0m\n\u001b[0m\u001b[1;32m      3\u001b[0m \u001b[0;34m\u001b[0m\u001b[0m\n\u001b[1;32m      4\u001b[0m \u001b[0;32mdef\u001b[0m \u001b[0mprint_csv\u001b[0m\u001b[0;34m(\u001b[0m\u001b[0mdf\u001b[0m\u001b[0;34m,\u001b[0m \u001b[0mfilename\u001b[0m\u001b[0;34m)\u001b[0m\u001b[0;34m:\u001b[0m\u001b[0;34m\u001b[0m\u001b[0;34m\u001b[0m\u001b[0m\n\u001b[1;32m      5\u001b[0m     \u001b[0mdf\u001b[0m\u001b[0;34m.\u001b[0m\u001b[0mto_csv\u001b[0m\u001b[0;34m(\u001b[0m\u001b[0mfilename\u001b[0m\u001b[0;34m,\u001b[0m \u001b[0mindex\u001b[0m\u001b[0;34m=\u001b[0m\u001b[0;32mFalse\u001b[0m\u001b[0;34m)\u001b[0m\u001b[0;34m\u001b[0m\u001b[0;34m\u001b[0m\u001b[0m\n",
      "\u001b[0;32m/usr/local/lib/python3.7/site-packages/pandas/core/frame.py\u001b[0m in \u001b[0;36mto_excel\u001b[0;34m(self, excel_writer, sheet_name, na_rep, float_format, columns, header, index, index_label, startrow, startcol, engine, merge_cells, encoding, inf_rep, verbose, freeze_panes)\u001b[0m\n\u001b[1;32m   1764\u001b[0m         formatter.write(excel_writer, sheet_name=sheet_name, startrow=startrow,\n\u001b[1;32m   1765\u001b[0m                         \u001b[0mstartcol\u001b[0m\u001b[0;34m=\u001b[0m\u001b[0mstartcol\u001b[0m\u001b[0;34m,\u001b[0m \u001b[0mfreeze_panes\u001b[0m\u001b[0;34m=\u001b[0m\u001b[0mfreeze_panes\u001b[0m\u001b[0;34m,\u001b[0m\u001b[0;34m\u001b[0m\u001b[0;34m\u001b[0m\u001b[0m\n\u001b[0;32m-> 1766\u001b[0;31m                         engine=engine)\n\u001b[0m\u001b[1;32m   1767\u001b[0m \u001b[0;34m\u001b[0m\u001b[0m\n\u001b[1;32m   1768\u001b[0m     def to_stata(self, fname, convert_dates=None, write_index=True,\n",
      "\u001b[0;32m/usr/local/lib/python3.7/site-packages/pandas/io/formats/excel.py\u001b[0m in \u001b[0;36mwrite\u001b[0;34m(self, writer, sheet_name, startrow, startcol, freeze_panes, engine)\u001b[0m\n\u001b[1;32m    644\u001b[0m             \u001b[0mneed_save\u001b[0m \u001b[0;34m=\u001b[0m \u001b[0;32mFalse\u001b[0m\u001b[0;34m\u001b[0m\u001b[0;34m\u001b[0m\u001b[0m\n\u001b[1;32m    645\u001b[0m         \u001b[0;32melse\u001b[0m\u001b[0;34m:\u001b[0m\u001b[0;34m\u001b[0m\u001b[0;34m\u001b[0m\u001b[0m\n\u001b[0;32m--> 646\u001b[0;31m             \u001b[0mwriter\u001b[0m \u001b[0;34m=\u001b[0m \u001b[0mExcelWriter\u001b[0m\u001b[0;34m(\u001b[0m\u001b[0m_stringify_path\u001b[0m\u001b[0;34m(\u001b[0m\u001b[0mwriter\u001b[0m\u001b[0;34m)\u001b[0m\u001b[0;34m,\u001b[0m \u001b[0mengine\u001b[0m\u001b[0;34m=\u001b[0m\u001b[0mengine\u001b[0m\u001b[0;34m)\u001b[0m\u001b[0;34m\u001b[0m\u001b[0;34m\u001b[0m\u001b[0m\n\u001b[0m\u001b[1;32m    647\u001b[0m             \u001b[0mneed_save\u001b[0m \u001b[0;34m=\u001b[0m \u001b[0;32mTrue\u001b[0m\u001b[0;34m\u001b[0m\u001b[0;34m\u001b[0m\u001b[0m\n\u001b[1;32m    648\u001b[0m \u001b[0;34m\u001b[0m\u001b[0m\n",
      "\u001b[0;32m/usr/local/lib/python3.7/site-packages/pandas/io/excel.py\u001b[0m in \u001b[0;36m__init__\u001b[0;34m(self, path, engine, **engine_kwargs)\u001b[0m\n\u001b[1;32m    996\u001b[0m     \u001b[0;32mdef\u001b[0m \u001b[0m__init__\u001b[0m\u001b[0;34m(\u001b[0m\u001b[0mself\u001b[0m\u001b[0;34m,\u001b[0m \u001b[0mpath\u001b[0m\u001b[0;34m,\u001b[0m \u001b[0mengine\u001b[0m\u001b[0;34m=\u001b[0m\u001b[0;32mNone\u001b[0m\u001b[0;34m,\u001b[0m \u001b[0;34m**\u001b[0m\u001b[0mengine_kwargs\u001b[0m\u001b[0;34m)\u001b[0m\u001b[0;34m:\u001b[0m\u001b[0;34m\u001b[0m\u001b[0;34m\u001b[0m\u001b[0m\n\u001b[1;32m    997\u001b[0m         \u001b[0;31m# Use the openpyxl module as the Excel writer.\u001b[0m\u001b[0;34m\u001b[0m\u001b[0;34m\u001b[0m\u001b[0;34m\u001b[0m\u001b[0m\n\u001b[0;32m--> 998\u001b[0;31m         \u001b[0;32mfrom\u001b[0m \u001b[0mopenpyxl\u001b[0m\u001b[0;34m.\u001b[0m\u001b[0mworkbook\u001b[0m \u001b[0;32mimport\u001b[0m \u001b[0mWorkbook\u001b[0m\u001b[0;34m\u001b[0m\u001b[0;34m\u001b[0m\u001b[0m\n\u001b[0m\u001b[1;32m    999\u001b[0m \u001b[0;34m\u001b[0m\u001b[0m\n\u001b[1;32m   1000\u001b[0m         \u001b[0msuper\u001b[0m\u001b[0;34m(\u001b[0m\u001b[0m_OpenpyxlWriter\u001b[0m\u001b[0;34m,\u001b[0m \u001b[0mself\u001b[0m\u001b[0;34m)\u001b[0m\u001b[0;34m.\u001b[0m\u001b[0m__init__\u001b[0m\u001b[0;34m(\u001b[0m\u001b[0mpath\u001b[0m\u001b[0;34m,\u001b[0m \u001b[0;34m**\u001b[0m\u001b[0mengine_kwargs\u001b[0m\u001b[0;34m)\u001b[0m\u001b[0;34m\u001b[0m\u001b[0;34m\u001b[0m\u001b[0m\n",
      "\u001b[0;31mModuleNotFoundError\u001b[0m: No module named 'openpyxl'"
     ]
    }
   ],
   "source": [
    "def main():\n",
    "    samples, sample_numbers, num_aqcs, aqc_before_batch = create_sample_list(getLIMS, additions,add_t_factor, add_aqc, add_flush)\n",
    "    abbs = create_abbreviations(samples, sample_numbers)\n",
    "    info = sample_info(samples)\n",
    "    data_file_lst = data_file(abbs)\n",
    "    method_file_lst = method_file(samples)\n",
    "    method_path_lst = method_path(samples)\n",
    "    data_path_lst = data_path(samples)\n",
    "    vials = vial_nums(samples, num_aqcs, aqc_before_batch)\n",
    "    df = create_df(vials, samples, abbs, info, data_file_lst, method_file_lst, data_path_lst, method_path_lst)\n",
    "    df = change_df(df, sample_numbers)\n",
    "    print_result(df)\n",
    "\n",
    "main()"
   ]
  },
  {
   "cell_type": "code",
   "execution_count": null,
   "metadata": {},
   "outputs": [],
   "source": []
  }
 ],
 "metadata": {
  "kernelspec": {
   "display_name": "Python 3",
   "language": "python",
   "name": "python3"
  },
  "language_info": {
   "codemirror_mode": {
    "name": "ipython",
    "version": 3
   },
   "file_extension": ".py",
   "mimetype": "text/x-python",
   "name": "python",
   "nbconvert_exporter": "python",
   "pygments_lexer": "ipython3",
   "version": "3.7.4"
  }
 },
 "nbformat": 4,
 "nbformat_minor": 2
}
